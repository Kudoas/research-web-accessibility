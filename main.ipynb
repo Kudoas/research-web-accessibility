{
 "cells": [
  {
   "cell_type": "code",
   "execution_count": 1,
   "id": "8ecfd7f1",
   "metadata": {},
   "outputs": [],
   "source": [
    "import glob\n",
    "import os\n",
    "\n",
    "import codecs\n",
    "import pandas as pd"
   ]
  },
  {
   "cell_type": "code",
   "execution_count": 2,
   "id": "09103913",
   "metadata": {},
   "outputs": [],
   "source": [
    "os.chdir(\"./hospital-report\")"
   ]
  },
  {
   "cell_type": "code",
   "execution_count": 82,
   "id": "8157d3cb",
   "metadata": {},
   "outputs": [],
   "source": [
    "pd.set_option('display.max_columns', 40)"
   ]
  },
  {
   "cell_type": "code",
   "execution_count": 53,
   "id": "8e3120fe",
   "metadata": {},
   "outputs": [],
   "source": [
    "# score = pd.read_csv('調査対象病院.csv', encoding=\"utf-8_sig\")\n",
    "score = pd.read_csv('scores/調査対象病院.csv', encoding=\"shift_jis\")"
   ]
  },
  {
   "cell_type": "code",
   "execution_count": 65,
   "id": "5434f535",
   "metadata": {},
   "outputs": [],
   "source": [
    "score[\"区\"]=score['住所'].str.split('区', expand=True)[0]+\"区\"\n",
    "score.loc[score[\"総病床数\"]>=500, '規模']='大病院'\n",
    "score.loc[score[\"総病床数\"]<=499, '規模']='中病院'\n",
    "score.loc[score[\"総病床数\"]<100, '規模']='小病院'\n",
    "score.to_csv('調査対象病院.csv', encoding=\"shift_jis\", index=False)"
   ]
  },
  {
   "cell_type": "markdown",
   "id": "8f66ba4d",
   "metadata": {},
   "source": [
    "## 4つの原則に基づいたスコアの集計\n",
    "\n",
    "- 全体の集計\n",
    "- 区毎の集計\n",
    "- 病床数毎の集計"
   ]
  },
  {
   "cell_type": "code",
   "execution_count": 91,
   "id": "fbdc7356",
   "metadata": {},
   "outputs": [],
   "source": [
    "score.describe().to_csv('scores/全病院.csv', encoding='shift_jis')"
   ]
  },
  {
   "cell_type": "code",
   "execution_count": 105,
   "id": "ee89a1da",
   "metadata": {},
   "outputs": [],
   "source": [
    "wards = ['中央区', '千代田区', '台東区', '文京区', '港区']\n",
    "for w in wards:\n",
    "    name = f\"scores/{w}.csv\"\n",
    "    score[score['区']==w].describe().to_csv(name, encoding='shift_jis')"
   ]
  },
  {
   "cell_type": "code",
   "execution_count": 104,
   "id": "f76f158c",
   "metadata": {},
   "outputs": [],
   "source": [
    "scales = ['小病院', '中病院', '大病院']\n",
    "for s in scales:\n",
    "    name = f\"scores/{s}.csv\"\n",
    "    score[score['規模']==s].describe().to_csv(name, encoding='shift_jis')"
   ]
  },
  {
   "cell_type": "code",
   "execution_count": 61,
   "id": "2067f053",
   "metadata": {},
   "outputs": [],
   "source": [
    "# files\n",
    "files = glob.glob('./unachieved-items/*')\n",
    "for name in files:\n",
    "    report = pd.read_csv(name, encoding=\"shift_jis\")"
   ]
  },
  {
   "cell_type": "code",
   "execution_count": 68,
   "id": "e8505623",
   "metadata": {},
   "outputs": [
    {
     "data": {
      "text/plain": [
       "0               A: 1.1.1\n",
       "1               A: 1.1.1\n",
       "2               A: 1.1.1\n",
       "3               A: 1.1.1\n",
       "4               A: 1.1.1\n",
       "5               A: 1.1.1\n",
       "6               A: 1.1.1\n",
       "7               A: 1.1.1\n",
       "8               A: 1.1.1\n",
       "9               A: 1.1.1\n",
       "10              A: 1.1.1\n",
       "11              A: 1.1.1\n",
       "12              A: 1.1.1\n",
       "13    A: 1.1.1, A: 2.4.4\n",
       "17              A: 3.1.1\n",
       "18    A: 2.4.1, A: 4.1.2\n",
       "33              A: 4.1.1\n",
       "Name: JIS, dtype: object"
      ]
     },
     "execution_count": 68,
     "metadata": {},
     "output_type": "execute_result"
    }
   ],
   "source": [
    "report[report['種別']==\"問題あり\"]['JIS']"
   ]
  },
  {
   "cell_type": "code",
   "execution_count": null,
   "id": "8cfd9c66",
   "metadata": {},
   "outputs": [],
   "source": []
  }
 ],
 "metadata": {
  "kernelspec": {
   "display_name": "Python 3",
   "language": "python",
   "name": "python3"
  },
  "language_info": {
   "codemirror_mode": {
    "name": "ipython",
    "version": 3
   },
   "file_extension": ".py",
   "mimetype": "text/x-python",
   "name": "python",
   "nbconvert_exporter": "python",
   "pygments_lexer": "ipython3",
   "version": "3.8.6"
  }
 },
 "nbformat": 4,
 "nbformat_minor": 5
}
